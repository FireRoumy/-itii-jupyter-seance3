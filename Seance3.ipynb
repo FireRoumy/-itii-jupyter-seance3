{
 "cells": [
  {
   "cell_type": "markdown",
   "metadata": {},
   "source": [
    "#Numpy et Array\n",
    "\n",
    "La bibliothèque NumPy (http://www.numpy.org/) permet d’effectuer des calculs numériques avec Python. Elle introduit une gestion facilitée des tableaux de nombres.\n",
    "\n",
    "Il faut au départ importer le package numpy avec l’instruction suivante :"
   ]
  },
  {
   "cell_type": "code",
   "execution_count": 3,
   "metadata": {},
   "outputs": [],
   "source": [
    "import numpy as np"
   ]
  },
  {
   "cell_type": "markdown",
   "metadata": {},
   "source": [
    "Les tableaux - numpy.array()\n",
    "\n",
    "Les tableaux  peuvent être créés avec numpy.array(). On utilise des crochets pour délimiter les listes d’éléments dans les tableaux.\n",
    "\n"
   ]
  },
  {
   "cell_type": "code",
   "execution_count": 4,
   "metadata": {},
   "outputs": [],
   "source": [
    "a = np.array([[1, 2, 3], [4, 5, 6]])"
   ]
  },
  {
   "cell_type": "markdown",
   "metadata": {},
   "source": [
    "Accès aux éléments d’un tableau :"
   ]
  },
  {
   "cell_type": "code",
   "execution_count": 97,
   "metadata": {},
   "outputs": [
    {
     "ename": "TypeError",
     "evalue": "'numpy.ndarray' object is not callable",
     "output_type": "error",
     "traceback": [
      "\u001b[1;31m---------------------------------------------------------------------------\u001b[0m",
      "\u001b[1;31mTypeError\u001b[0m                                 Traceback (most recent call last)",
      "\u001b[1;32m<ipython-input-97-0347c75162cd>\u001b[0m in \u001b[0;36m<module>\u001b[1;34m\u001b[0m\n\u001b[1;32m----> 1\u001b[1;33m \u001b[0mprint\u001b[0m\u001b[1;33m(\u001b[0m\u001b[0ma\u001b[0m\u001b[1;33m(\u001b[0m\u001b[1;36m1\u001b[0m\u001b[1;33m,\u001b[0m\u001b[1;36m2\u001b[0m\u001b[1;33m)\u001b[0m\u001b[1;33m)\u001b[0m\u001b[1;33m\u001b[0m\u001b[1;33m\u001b[0m\u001b[0m\n\u001b[0m",
      "\u001b[1;31mTypeError\u001b[0m: 'numpy.ndarray' object is not callable"
     ]
    }
   ],
   "source": [
    "print(a[1])"
   ]
  },
  {
   "cell_type": "markdown",
   "metadata": {},
   "source": [
    "La fonction numpy.arange() permet de créer des listes en fonction de certain parametres:"
   ]
  },
  {
   "cell_type": "code",
   "execution_count": 7,
   "metadata": {},
   "outputs": [],
   "source": [
    "m = np.arange(3, 15, 2)"
   ]
  },
  {
   "cell_type": "markdown",
   "metadata": {},
   "source": [
    "La fonction numpy.linspace() permet d’obtenir un tableau 1D allant d’une valeur de départ à une valeur de fin avec un nombre donné d’éléments."
   ]
  },
  {
   "cell_type": "code",
   "execution_count": null,
   "metadata": {},
   "outputs": [],
   "source": [
    "np.linspace(3, 9, 10)"
   ]
  },
  {
   "cell_type": "markdown",
   "metadata": {},
   "source": [
    "Pour toutes les fonctions que propose numpy, vous pouvez consulter la documentation : https://numpy.org/doc/\n",
    "\n",
    "Le typage faible et dynamique et les limites du language interperté fait de python une solution lente pour traiter les tableaux de grande taille. \n",
    "Dans beaucoup de cas, Numpy fournit une interface pour les opérations standard qui n'implique que des données du même type. Par exemple, on peut calculer les inverses de tous les éléments d'un tableau Numpy :"
   ]
  },
  {
   "cell_type": "code",
   "execution_count": 12,
   "metadata": {},
   "outputs": [
    {
     "name": "stdout",
     "output_type": "stream",
     "text": [
      "[0.08333333 0.01449275 0.03448276 ... 0.02777778 0.02439024 0.02173913]\n"
     ]
    }
   ],
   "source": [
    "tableau_large = np.random.randint(1, 100, size=1000000)\n",
    "tableau_large = 1.0 / tableau_large\n",
    "print(tableau_large)"
   ]
  },
  {
   "cell_type": "markdown",
   "metadata": {},
   "source": [
    "Ex 1 :  théorème des valeurs intermédiaires\n",
    "\n",
    "1. Rappel\n",
    "Soit f  une fonction continue définie sur un intervalle I et, a et b deux réels de I.Pour tout réel k compris entre f(a) et f(b), il existe au moins un réel c compris entre a et b tel que f(c)=k.\n",
    "\n",
    "Soit f une fonction continue et strictement monotone sur un intervalle [a;b].Pour tout nombre k compris entre f(a) et f(b), l'équation f(x)=kadmet une unique solution dans l'intervalle [a;b].\n",
    "\n",
    "2. Application\n",
    "Nous considérons dans cet exercice la fonction:fdéfinie sur l'intervalle [0;1], par: f(x)=x^3+2x−2\n",
    "Par la conséquence du théorème des valeurs intermédiaires :  l'équation f(x)=0 admet une unique solution x_0 dans [0;1]\n",
    "* vérifier continuité et stricte monotonie de f sur [0;1]\n",
    "* Pour savoir si x0 se trouve dans [0;0,5]ou dans [0,5;1], il faut vérifier si f(0) et f(0,5)  sont de mêmes signes\n",
    "* proposer un algorithme de recherche pour évaluer x_0 en fonction de $N$, donner par l'utilisateur\n"
   ]
  },
  {
   "cell_type": "code",
   "execution_count": 30,
   "metadata": {},
   "outputs": [],
   "source": []
  },
  {
   "cell_type": "code",
   "execution_count": 90,
   "metadata": {},
   "outputs": [
    {
     "data": {
      "image/png": "[encoded data removed]",
      "text/plain": [
       "<Figure size 432x288 with 1 Axes>"
      ]
     },
     "metadata": {
      "needs_background": "light"
     },
     "output_type": "display_data"
    },
    {
     "name": "stdout",
     "output_type": "stream",
     "text": [
      "0.5 1\n",
      "0.75 1\n",
      "0.75 0.875\n",
      "0.75 0.8125\n",
      "0.75 0.78125\n",
      "0.765625 0.78125\n",
      "0.765625 0.7734375\n",
      "0.76953125 0.7734375\n",
      "0.76953125 0.771484375\n"
     ]
    }
   ],
   "source": [
    "def f(x):\n",
    "    return x**3+2*x-2\n",
    "\n",
    "\n",
    "import matplotlib.pyplot as plt\n",
    "plt.plot([0,1], [f(0),f(1)])\n",
    "plt.ylabel('y')\n",
    "plt.show()\n",
    "a = 0\n",
    "b = 1\n",
    "\n",
    "for i in range(1,10):\n",
    "    c = (a+b)/2\n",
    "    if f(a)<0 and f(c)<0 :\n",
    "        a = c\n",
    "        print(a,b)\n",
    "    else :\n",
    "        b = c\n",
    "        print(a,b)\n",
    "        \n",
    "        \n",
    "\n"
   ]
  },
  {
   "cell_type": "markdown",
   "metadata": {},
   "source": [
    "Ex 2: Carrés magiques\n",
    "Uncarré magiqueest un tableau carré de taillen×nqui contient tous les entiers de 1 à n2 et qui vérifieque : la somme de chaque ligne, la somme de chaque colonne, la somme de la diagonale principale et la somme de l’anti-diagonale ont toutes la même valeur.\n",
    "\n",
    "Pour un carré magique de taille n×n, la valeur de la somme est : S_n=n(n^2+1)/2\n",
    "\n",
    "1. Définir un tableau pour chacun des exemples3×3 et 4×4\n",
    "2. Définir une fonctionest_carre_magique(carre)qui teste si un tableaudonné est (ou pas) un carré magique\n",
    "3. Génèrer de façon aléatoire des carrés contenant les entiers de1 àn2grâce à une fonctioncarre_aleatoire(n). \n",
    "4. Définir la probabilité d'obtenir un carrée magique\n",
    "5. Définir une fonctionaddition_carre(carre,k)qui ajoute un entierkà tous les élé-ments du carré.\n"
   ]
  },
  {
   "cell_type": "code",
   "execution_count": 94,
   "metadata": {},
   "outputs": [
    {
     "name": "stdout",
     "output_type": "stream",
     "text": [
      "[[2 7 6]\n",
      " [9 5 1]\n",
      " [4 3 8]]\n"
     ]
    }
   ],
   "source": [
    "a = np.array([[2, 7, 6], [9, 5, 1], [4, 3, 8] ])\n",
    "print (a)\n",
    "\n",
    "for i in range(1,3):\n",
    "    if a[i,1]+a[i,2]+a[i,3] = a[1,1]+a[2,2]+a[3,3]:\n",
    "        \n",
    "\n"
   ]
  }
 ],
 "metadata": {
  "kernelspec": {
   "display_name": "Python 3",
   "language": "python",
   "name": "python3"
  },
  "language_info": {
   "codemirror_mode": {
    "name": "ipython",
    "version": 3
   },
   "file_extension": ".py",
   "mimetype": "text/x-python",
   "name": "python",
   "nbconvert_exporter": "python",
   "pygments_lexer": "ipython3",
   "version": "3.7.6"
  }
 },
 "nbformat": 4,
 "nbformat_minor": 4
}
